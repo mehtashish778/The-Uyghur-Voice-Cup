{
  "metadata": {
    "kernelspec": {
      "language": "python",
      "display_name": "Python 3",
      "name": "python3"
    },
    "language_info": {
      "name": "python",
      "version": "3.11.13",
      "mimetype": "text/x-python",
      "codemirror_mode": {
        "name": "ipython",
        "version": 3
      },
      "pygments_lexer": "ipython3",
      "nbconvert_exporter": "python",
      "file_extension": ".py"
    },
    "kaggle": {
      "accelerator": "nvidiaTeslaT4",
      "dataSources": [
        {
          "sourceId": 108756,
          "databundleVersionId": 13172482,
          "sourceType": "competition"
        }
      ],
      "dockerImageVersionId": 31090,
      "isInternetEnabled": true,
      "language": "python",
      "sourceType": "notebook",
      "isGpuEnabled": true
    },
    "colab": {
      "name": "notebookbc3e522506",
      "provenance": [],
      "include_colab_link": true
    }
  },
  "nbformat_minor": 0,
  "nbformat": 4,
  "cells": [
    {
      "cell_type": "markdown",
      "metadata": {
        "id": "view-in-github",
        "colab_type": "text"
      },
      "source": [
        "<a href=\"https://colab.research.google.com/github/mehtashish778/The-Uyghur-Voice-Cup/blob/main/notebookbc3e522506.ipynb\" target=\"_parent\"><img src=\"https://colab.research.google.com/assets/colab-badge.svg\" alt=\"Open In Colab\"/></a>"
      ]
    },
    {
      "source": [
        "# IMPORTANT: SOME KAGGLE DATA SOURCES ARE PRIVATE\n",
        "# RUN THIS CELL IN ORDER TO IMPORT YOUR KAGGLE DATA SOURCES.\n",
        "import kagglehub\n",
        "kagglehub.login()\n"
      ],
      "metadata": {
        "id": "jadDM1xUL-1m"
      },
      "cell_type": "code",
      "outputs": [],
      "execution_count": null
    },
    {
      "source": [
        "# IMPORTANT: RUN THIS CELL IN ORDER TO IMPORT YOUR KAGGLE DATA SOURCES,\n",
        "# THEN FEEL FREE TO DELETE THIS CELL.\n",
        "# NOTE: THIS NOTEBOOK ENVIRONMENT DIFFERS FROM KAGGLE'S PYTHON\n",
        "# ENVIRONMENT SO THERE MAY BE MISSING LIBRARIES USED BY YOUR\n",
        "# NOTEBOOK.\n",
        "\n",
        "the_uyghur_voice_cup_path = kagglehub.competition_download('the-uyghur-voice-cup')\n",
        "\n",
        "print('Data source import complete.')\n"
      ],
      "metadata": {
        "id": "sEcAeMrQL-1o"
      },
      "cell_type": "code",
      "outputs": [],
      "execution_count": null
    },
    {
      "cell_type": "code",
      "source": [
        "# This Python 3 environment comes with many helpful analytics libraries installed\n",
        "# It is defined by the kaggle/python Docker image: https://github.com/kaggle/docker-python\n",
        "# For example, here's several helpful packages to load\n",
        "\n",
        "import numpy as np # linear algebra\n",
        "import pandas as pd # data processing, CSV file I/O (e.g. pd.read_csv)\n",
        "\n",
        "# Input data files are available in the read-only \"../input/\" directory\n",
        "# For example, running this (by clicking run or pressing Shift+Enter) will list all files under the input directory\n",
        "\n",
        "import os\n",
        "for dirname, _, filenames in os.walk('/kaggle/input'):\n",
        "    for filename in filenames:\n",
        "        print(os.path.join(dirname, filename))\n",
        "\n",
        "# You can write up to 20GB to the current directory (/kaggle/working/) that gets preserved as output when you create a version using \"Save & Run All\"\n",
        "# You can also write temporary files to /kaggle/temp/, but they won't be saved outside of the current session"
      ],
      "metadata": {
        "_uuid": "8f2839f25d086af736a60e9eeb907d3b93b6e0e5",
        "_cell_guid": "b1076dfc-b9ad-4769-8c92-a6c4dae69d19",
        "trusted": true,
        "execution": {
          "iopub.status.busy": "2025-07-28T05:02:22.901486Z",
          "iopub.execute_input": "2025-07-28T05:02:22.901824Z",
          "iopub.status.idle": "2025-07-28T05:02:28.311134Z",
          "shell.execute_reply.started": "2025-07-28T05:02:22.901799Z",
          "shell.execute_reply": "2025-07-28T05:02:28.310251Z"
        },
        "id": "8CDQudzwL-1p"
      },
      "outputs": [],
      "execution_count": null
    },
    {
      "cell_type": "code",
      "source": [
        "!pip install torch torchaudio librosa transformers datasets huggingface_hub numpy pandas matplotlib seaborn\n",
        "!pip install evaluate\n",
        "!pip install jiwer"
      ],
      "metadata": {
        "trusted": true,
        "execution": {
          "iopub.status.busy": "2025-07-28T05:02:28.312365Z",
          "iopub.execute_input": "2025-07-28T05:02:28.312697Z",
          "iopub.status.idle": "2025-07-28T05:04:10.310621Z",
          "shell.execute_reply.started": "2025-07-28T05:02:28.312653Z",
          "shell.execute_reply": "2025-07-28T05:04:10.309549Z"
        },
        "id": "48fzvb0WL-1q"
      },
      "outputs": [],
      "execution_count": null
    },
    {
      "cell_type": "code",
      "source": [
        "from datasets import load_dataset\n",
        "import librosa\n",
        "import numpy as np\n",
        "import pandas as pd\n",
        "import torch\n",
        "\n",
        "# Load dataset from local CSV files\n",
        "dataset = load_dataset(\"csv\", data_files={\"train\": \"/kaggle/input/the-uyghur-voice-cup/train.csv\", \"test\": \"/kaggle/input/the-uyghur-voice-cup/test.csv\"})\n",
        "\n",
        "# Train and test splits\n",
        "train_data = dataset[\"train\"]  # Contains 'transcription'\n",
        "test_data = dataset[\"test\"]  # Does not contains \"transcription\""
      ],
      "metadata": {
        "trusted": true,
        "execution": {
          "iopub.status.busy": "2025-07-28T05:04:10.311762Z",
          "iopub.execute_input": "2025-07-28T05:04:10.312019Z",
          "iopub.status.idle": "2025-07-28T05:04:17.040027Z",
          "shell.execute_reply.started": "2025-07-28T05:04:10.311995Z",
          "shell.execute_reply": "2025-07-28T05:04:17.039398Z"
        },
        "id": "lj0Z0By6L-1q"
      },
      "outputs": [],
      "execution_count": null
    },
    {
      "cell_type": "code",
      "source": [
        "from transformers import (\n",
        "    Wav2Vec2FeatureExtractor,\n",
        "    Wav2Vec2Processor,\n",
        "    AutoModelForCTC,\n",
        "    Wav2Vec2CTCTokenizer,\n",
        ")\n",
        "import torch\n",
        "\n",
        "\n",
        "\n",
        "# Extract all characters from the entire dataset (no need for .map here)\n",
        "all_text = \" \".join(dataset[\"train\"][\"transcription\"])\n",
        "vocab = list(set(all_text))\n",
        "\n",
        "# Create vocab dictionary\n",
        "vocab_dict = {v: k for k, v in enumerate(sorted(vocab))}\n",
        "vocab_dict[\"|\"] = vocab_dict.pop(\" \")  # Replace space with |\n",
        "vocab_dict[\"[UNK]\"] = len(vocab_dict)\n",
        "vocab_dict[\"[PAD]\"] = len(vocab_dict)\n",
        "\n",
        "import json\n",
        "with open('vocab.json', 'w') as vocab_file:\n",
        "    json.dump(vocab_dict, vocab_file)\n",
        "\n",
        "tokenizer = Wav2Vec2CTCTokenizer(\"./vocab.json\", unk_token=\"[UNK]\", pad_token=\"[PAD]\", word_delimiter_token=\"|\")\n",
        "\n",
        "\n",
        "\n",
        "feature_extractor = Wav2Vec2FeatureExtractor(feature_size=1, sampling_rate=16000, padding_value=0.0, do_normalize=True, return_attention_mask=False)\n",
        "\n",
        "\n",
        "processor = Wav2Vec2Processor(feature_extractor=feature_extractor, tokenizer=tokenizer)\n",
        "\n",
        "\n",
        "model = AutoModelForCTC.from_pretrained(\n",
        "    \"facebook/wav2vec2-base\",\n",
        "    ctc_loss_reduction=\"mean\",\n",
        "    pad_token_id=processor.tokenizer.pad_token_id,\n",
        "    vocab_size=len(processor.tokenizer)\n",
        ")"
      ],
      "metadata": {
        "trusted": true,
        "execution": {
          "iopub.status.busy": "2025-07-28T05:04:17.042143Z",
          "iopub.execute_input": "2025-07-28T05:04:17.043228Z",
          "iopub.status.idle": "2025-07-28T05:04:47.601156Z",
          "shell.execute_reply.started": "2025-07-28T05:04:17.043199Z",
          "shell.execute_reply": "2025-07-28T05:04:47.600511Z"
        },
        "id": "SK8UHVi-L-1r"
      },
      "outputs": [],
      "execution_count": null
    },
    {
      "cell_type": "code",
      "source": [
        "import torch\n",
        "import numpy as np\n",
        "import librosa\n",
        "import os # Import the os module\n",
        "\n",
        "device = torch.device(\"cuda\" if torch.cuda.is_available() else \"cpu\")\n",
        "\n",
        "# Define the base path to the unzipped data\n",
        "BASE_DATA_PATH = \"/kaggle/input/the-uyghur-voice-cup\"\n",
        "\n",
        "# def prepare_sample(batch):\n",
        "#     # Construct the full audio file path\n",
        "#     audio_path = os.path.join(BASE_DATA_PATH, batch[\"filepath\"])  # Join base path with relative filepath\n",
        "#     audio, sampling_rate = librosa.load(audio_path, sr=16000)     # Load audio file, resample to 16kHz\n",
        "\n",
        "#     expected_length = 32000  # 2 seconds of audio at 16kHz (not 32!)\n",
        "\n",
        "#     # Trim or pad to 2 seconds\n",
        "#     if len(audio) < expected_length:\n",
        "#         audio = np.pad(audio, (0, expected_length - len(audio)), mode='constant')\n",
        "#     else:\n",
        "#         audio = audio[:expected_length]\n",
        "\n",
        "#     # Process raw audio into model-ready format\n",
        "#     inputs = processor(audio, sampling_rate=16000, return_tensors=\"pt\")\n",
        "\n",
        "#     batch[\"input_values\"] = inputs[\"input_values\"].squeeze(0)  # ✅ Only use this\n",
        "#     batch[\"transcription\"] = batch[\"transcription\"]\n",
        "\n",
        "#     return batch\n",
        "\n",
        "\n",
        "def prepare_sample(batch):\n",
        "    audio_path = os.path.join(BASE_DATA_PATH, batch[\"filepath\"])\n",
        "    audio, _ = librosa.load(audio_path, sr=16000)\n",
        "\n",
        "    # Process raw waveform into model input\n",
        "    inputs = processor(audio, sampling_rate=16000, return_tensors=\"pt\")\n",
        "\n",
        "    batch[\"input_values\"] = inputs[\"input_values\"].squeeze(0)\n",
        "    batch[\"transcription\"] = batch[\"transcription\"]\n",
        "\n",
        "    return batch\n",
        "\n"
      ],
      "metadata": {
        "trusted": true,
        "execution": {
          "iopub.status.busy": "2025-07-28T05:04:47.601892Z",
          "iopub.execute_input": "2025-07-28T05:04:47.602428Z",
          "iopub.status.idle": "2025-07-28T05:04:47.608286Z",
          "shell.execute_reply.started": "2025-07-28T05:04:47.602408Z",
          "shell.execute_reply": "2025-07-28T05:04:47.60748Z"
        },
        "id": "tHVuUYuSL-1r"
      },
      "outputs": [],
      "execution_count": null
    },
    {
      "cell_type": "code",
      "source": [
        "from dataclasses import dataclass\n",
        "from typing import List, Dict, Union\n",
        "import torch"
      ],
      "metadata": {
        "trusted": true,
        "execution": {
          "iopub.status.busy": "2025-07-28T05:04:47.609326Z",
          "iopub.execute_input": "2025-07-28T05:04:47.609771Z",
          "iopub.status.idle": "2025-07-28T05:04:47.86418Z",
          "shell.execute_reply.started": "2025-07-28T05:04:47.609744Z",
          "shell.execute_reply": "2025-07-28T05:04:47.863567Z"
        },
        "id": "1Lx2mo8QL-1r"
      },
      "outputs": [],
      "execution_count": null
    },
    {
      "cell_type": "code",
      "source": [
        "from datasets import load_dataset\n",
        "\n",
        "# Load your dataset from CSV\n",
        "dataset = load_dataset(\"csv\", data_files=\"/kaggle/input/the-uyghur-voice-cup/train.csv\")[\"train\"]\n",
        "\n",
        "# Optional: Take a sample or full dataset\n",
        "sampled_dataset = dataset  # Or use `.select(...)` or `.shuffle(...)` if needed\n",
        "\n",
        "# Apply preprocessing\n",
        "sampled_dataset = sampled_dataset.map(\n",
        "    prepare_sample,\n",
        "    remove_columns=[\"ID\", \"filepath\"],  # Updated to remove only \"ID\" and \"filepath\"\n",
        "    desc=\"Preprocessing audio samples\"\n",
        ")\n",
        "\n",
        "# Set the format of the dataset to 'torch' to ensure tensors are handled correctly\n",
        "sampled_dataset.set_format(type='torch', columns=['input_values', 'transcription'])"
      ],
      "metadata": {
        "trusted": true,
        "execution": {
          "iopub.status.busy": "2025-07-28T05:04:47.865014Z",
          "iopub.execute_input": "2025-07-28T05:04:47.865596Z",
          "iopub.status.idle": "2025-07-28T05:07:12.782087Z",
          "shell.execute_reply.started": "2025-07-28T05:04:47.865575Z",
          "shell.execute_reply": "2025-07-28T05:07:12.781282Z"
        },
        "id": "HC8uSl2NL-1s"
      },
      "outputs": [],
      "execution_count": null
    },
    {
      "cell_type": "code",
      "source": [
        "sample = sampled_dataset[0]\n",
        "print(\"Transcript:\", sample[\"transcription\"])\n",
        "print(\"Token IDs:\", processor.tokenizer(sample[\"transcription\"]).input_ids)"
      ],
      "metadata": {
        "trusted": true,
        "execution": {
          "iopub.status.busy": "2025-07-28T05:07:12.783265Z",
          "iopub.execute_input": "2025-07-28T05:07:12.783659Z",
          "iopub.status.idle": "2025-07-28T05:07:12.795916Z",
          "shell.execute_reply.started": "2025-07-28T05:07:12.783622Z",
          "shell.execute_reply": "2025-07-28T05:07:12.795067Z"
        },
        "id": "0zL1l_gRL-1s"
      },
      "outputs": [],
      "execution_count": null
    },
    {
      "cell_type": "code",
      "source": [
        "# Split dataset\n",
        "dataset1 = sampled_dataset.train_test_split(test_size=0.1, shuffle=True, seed=42)\n",
        "\n",
        "\n",
        "from typing import List, Dict, Union\n",
        "import torch\n",
        "import torch.nn.utils.rnn\n",
        "\n",
        "# class DataCollatorWithPadding:\n",
        "#     def __init__(self, processor, padding: Union[bool, str] = True):\n",
        "#         self.processor = processor\n",
        "#         self.padding = padding\n",
        "\n",
        "#     def __call__(self, features: List[Dict[str, Union[torch.Tensor, str]]]) -> Dict[str, torch.Tensor]:\n",
        "#         # Convert input values to tensors if not already\n",
        "#         input_values = [f[\"input_values\"].clone().detach() for f in features]\n",
        "\n",
        "\n",
        "#         # Tokenize transcriptions (labels)\n",
        "#         labels = self.processor(\n",
        "#             text=[f[\"transcription\"] for f in features],\n",
        "#             padding=self.padding,\n",
        "#             return_tensors=\"pt\"\n",
        "#         ).input_ids\n",
        "\n",
        "#         # Replace pad tokens with -100 (ignored by CTC loss)\n",
        "#         labels[labels == self.processor.tokenizer.pad_token_id] = -100\n",
        "\n",
        "#         # Pad audio input sequences\n",
        "#         padded_input_values = torch.nn.utils.rnn.pad_sequence(\n",
        "#             input_values, batch_first=True,\n",
        "#             padding_value=self.processor.feature_extractor.padding_value\n",
        "#         )\n",
        "\n",
        "#         return {\n",
        "#             \"input_values\": padded_input_values,  # Wav2Vec2 expects this key\n",
        "#             \"labels\": labels\n",
        "#         }\n",
        "\n",
        "class DataCollatorWithPadding:\n",
        "    def __init__(self, processor, padding=True):\n",
        "        self.processor = processor\n",
        "        self.padding = padding\n",
        "\n",
        "    def __call__(self, features):\n",
        "        input_values = [f[\"input_values\"].clone().detach() for f in features]\n",
        "\n",
        "        # Tokenize transcriptions\n",
        "        transcriptions = [f[\"transcription\"] for f in features]\n",
        "        label_inputs = self.processor.tokenizer(\n",
        "            transcriptions,\n",
        "            padding=True,\n",
        "            return_tensors=\"pt\",\n",
        "            return_attention_mask=False,\n",
        "        )\n",
        "        labels = label_inputs.input_ids\n",
        "        labels[labels == self.processor.tokenizer.pad_token_id] = -100\n",
        "\n",
        "        padded_input_values = torch.nn.utils.rnn.pad_sequence(\n",
        "            input_values,\n",
        "            batch_first=True,\n",
        "            padding_value=self.processor.feature_extractor.padding_value\n",
        "        )\n",
        "\n",
        "        return {\n",
        "            \"input_values\": padded_input_values,\n",
        "            \"labels\": labels,\n",
        "        }\n"
      ],
      "metadata": {
        "trusted": true,
        "execution": {
          "iopub.status.busy": "2025-07-28T05:07:12.797431Z",
          "iopub.execute_input": "2025-07-28T05:07:12.798242Z",
          "iopub.status.idle": "2025-07-28T05:07:16.40402Z",
          "shell.execute_reply.started": "2025-07-28T05:07:12.798206Z",
          "shell.execute_reply": "2025-07-28T05:07:16.403331Z"
        },
        "id": "LMh4UXBpL-1s"
      },
      "outputs": [],
      "execution_count": null
    },
    {
      "cell_type": "code",
      "source": [
        "data_collator = DataCollatorWithPadding(processor, padding=True)\n",
        "\n",
        "\n",
        "import torch\n",
        "from evaluate import load\n",
        "\n",
        "# Load ASR metrics\n",
        "wer_metric = load(\"wer\")\n",
        "cer_metric = load(\"cer\")\n",
        "\n",
        "\n",
        "def compute_metrics(pred):\n",
        "    pred_ids = np.argmax(pred.predictions, axis=-1)\n",
        "    label_ids = pred.label_ids\n",
        "\n",
        "    # Replace -100 with pad_token_id for decoding labels properly\n",
        "    label_ids[label_ids == -100] = processor.tokenizer.pad_token_id\n",
        "\n",
        "    # Decode to strings\n",
        "    pred_str = processor.batch_decode(pred_ids, skip_special_tokens=True)\n",
        "    label_str = processor.batch_decode(label_ids, skip_special_tokens=True)\n",
        "\n",
        "    # Compute metrics\n",
        "    wer = wer_metric.compute(predictions=pred_str, references=label_str)\n",
        "    cer = cer_metric.compute(predictions=pred_str, references=label_str)\n",
        "\n",
        "    return {\n",
        "        \"wer\": wer,\n",
        "        \"cer\": cer\n",
        "    }\n",
        "\n"
      ],
      "metadata": {
        "trusted": true,
        "execution": {
          "iopub.status.busy": "2025-07-28T05:07:16.406118Z",
          "iopub.execute_input": "2025-07-28T05:07:16.406319Z",
          "iopub.status.idle": "2025-07-28T05:07:18.051107Z",
          "shell.execute_reply.started": "2025-07-28T05:07:16.406294Z",
          "shell.execute_reply": "2025-07-28T05:07:18.050535Z"
        },
        "id": "2K3wYJ1nL-1t"
      },
      "outputs": [],
      "execution_count": null
    },
    {
      "cell_type": "code",
      "source": [
        "!pip install jiwer"
      ],
      "metadata": {
        "trusted": true,
        "execution": {
          "iopub.status.busy": "2025-07-28T05:07:18.051785Z",
          "iopub.execute_input": "2025-07-28T05:07:18.05204Z",
          "iopub.status.idle": "2025-07-28T05:07:21.372802Z",
          "shell.execute_reply.started": "2025-07-28T05:07:18.052018Z",
          "shell.execute_reply": "2025-07-28T05:07:21.372Z"
        },
        "id": "XczeuZC_L-1t"
      },
      "outputs": [],
      "execution_count": null
    },
    {
      "cell_type": "code",
      "source": [
        "from transformers import TrainingArguments, Trainer\n"
      ],
      "metadata": {
        "trusted": true,
        "execution": {
          "iopub.status.busy": "2025-07-28T05:07:21.373863Z",
          "iopub.execute_input": "2025-07-28T05:07:21.374162Z",
          "iopub.status.idle": "2025-07-28T05:07:23.460747Z",
          "shell.execute_reply.started": "2025-07-28T05:07:21.374125Z",
          "shell.execute_reply": "2025-07-28T05:07:23.459939Z"
        },
        "id": "9PgZFPTWL-1u"
      },
      "outputs": [],
      "execution_count": null
    },
    {
      "cell_type": "code",
      "source": [
        "model.to(\"cuda\")\n",
        "\n",
        "model.freeze_feature_encoder()\n",
        "# Or freeze lower transformer layers manually\n",
        "for name, param in model.named_parameters():\n",
        "    if \"encoder.layer.\" in name and any(layer in name for layer in [\"0\", \"1\", \"2\", \"3\",\"4\"]):\n",
        "        param.requires_grad = False\n",
        "training_args = TrainingArguments(\n",
        "  output_dir=\"AsrTaskModel\",\n",
        "  group_by_length=True,\n",
        "  per_device_train_batch_size=2,\n",
        "  per_device_eval_batch_size=2,\n",
        "  eval_strategy=\"steps\",\n",
        "  num_train_epochs=10,\n",
        "  fp16=True,\n",
        "  gradient_checkpointing=True,\n",
        "  save_steps=1000,\n",
        "  eval_steps=500,\n",
        "  logging_steps=500,\n",
        "  learning_rate=1e-4,\n",
        "  weight_decay=0.005,\n",
        "  warmup_steps=1000,\n",
        "  save_total_limit=2,\n",
        "  load_best_model_at_end=True,\n",
        "  save_strategy=\"steps\",\n",
        "  report_to=\"none\",\n",
        "  remove_unused_columns=False,\n",
        ")\n",
        "\n",
        "# Trainer\n",
        "trainer = Trainer(\n",
        "    model=model,\n",
        "    data_collator=data_collator,\n",
        "    args=training_args,\n",
        "    compute_metrics=compute_metrics,\n",
        "    train_dataset=dataset1[\"train\"],\n",
        "    eval_dataset=dataset1[\"test\"],\n",
        "    tokenizer=processor.feature_extractor,\n",
        ")\n",
        "\n",
        "trainer.train()"
      ],
      "metadata": {
        "trusted": true,
        "execution": {
          "iopub.status.busy": "2025-07-28T05:07:23.461643Z",
          "iopub.execute_input": "2025-07-28T05:07:23.461927Z"
        },
        "id": "-S1A5P6cL-1u"
      },
      "outputs": [],
      "execution_count": null
    },
    {
      "cell_type": "code",
      "source": [
        "import torch\n",
        "import pandas as pd\n",
        "import numpy as np\n",
        "from scipy.special import softmax\n",
        "from tqdm import tqdm\n",
        "\n",
        "device = torch.device(\"cuda\" if torch.cuda.is_available() else \"cpu\")\n",
        "\n",
        "# Ensure model is in evaluation mode\n",
        "model.eval()\n",
        "\n",
        "# Prepare a list to store submission results\n",
        "submission_results = []"
      ],
      "metadata": {
        "trusted": true,
        "id": "wS2hXcMDL-1u"
      },
      "outputs": [],
      "execution_count": null
    },
    {
      "cell_type": "code",
      "source": [
        "\n",
        "for sample in tqdm(test_data):\n",
        "    sample_id = sample[\"ID\"]  # Keep original ID\n",
        "    audio_input = sample[\"filepath\"]\n",
        "\n",
        "    # Load audio\n",
        "    audio_path = os.path.join(BASE_DATA_PATH, audio_input)\n",
        "    audio, _ = librosa.load(audio_path, sr=16000)\n",
        "\n",
        "    # Preprocess audio\n",
        "    inputs = processor(audio, sampling_rate=16000, return_tensors=\"pt\", padding=True)\n",
        "    input_values = inputs.input_values.to(model.device)\n",
        "\n",
        "    # Run inference\n",
        "    with torch.no_grad():\n",
        "        logits = model(input_values).logits\n",
        "\n",
        "    # Decode prediction (greedy)\n",
        "    predicted_ids = torch.argmax(logits, dim=-1)\n",
        "    transcription = processor.batch_decode(predicted_ids)[0]\n",
        "\n",
        "    # Save (id, transcription)\n",
        "    submission_results.append([sample_id, transcription])\n"
      ],
      "metadata": {
        "trusted": true,
        "id": "jxsXCeLIL-1u"
      },
      "outputs": [],
      "execution_count": null
    },
    {
      "cell_type": "code",
      "source": [
        "# Convert to DataFrame (keeping only \"id\" and \"transcription\")\n",
        "submission_df = pd.DataFrame(submission_results, columns=[\"ID\", \"transcription\"])\n",
        "\n",
        "# Save to CSV without modifying id\n",
        "submission_df.to_csv(\"./submission.csv\", index=False)\n",
        "\n",
        "print(\"✅ Submission file saved correctly with original 'id' values!\")"
      ],
      "metadata": {
        "trusted": true,
        "id": "T1GUCBG-L-1v"
      },
      "outputs": [],
      "execution_count": null
    }
  ]
}